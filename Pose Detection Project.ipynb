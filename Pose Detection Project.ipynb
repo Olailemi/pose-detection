{
 "cells": [
  {
   "cell_type": "code",
   "execution_count": 1,
   "id": "b03190d0",
   "metadata": {},
   "outputs": [],
   "source": [
    "#!pip install mediapipe"
   ]
  },
  {
   "cell_type": "code",
   "execution_count": 2,
   "id": "40400c85",
   "metadata": {},
   "outputs": [],
   "source": [
    "#step 1 import all necessary libraries\n",
    "import cv2\n",
    "import mediapipe as mp"
   ]
  },
  {
   "cell_type": "code",
   "execution_count": 3,
   "id": "d1443525",
   "metadata": {},
   "outputs": [],
   "source": [
    "# step 2 Identify webcam\n",
    "cap = cv2.VideoCapture(0)"
   ]
  },
  {
   "cell_type": "code",
   "execution_count": 4,
   "id": "11381f0d",
   "metadata": {},
   "outputs": [],
   "source": [
    "#leveraging the mediapipe library used for pose detection\n",
    "mpPose = mp.solutions.pose\n",
    "pose = mpPose.Pose()\n",
    "\n",
    "#pose = mpPose.Pose(static_image_mode-False, upper_body_only-False, smooth_landmarks-True, min_detection_confidence=0.5, min_tracking_confidence=0.5)\n",
    "\n",
    "# To draw and connect the landmarks\n",
    "mpDraw = mp.solutions.drawing_utils"
   ]
  },
  {
   "cell_type": "code",
   "execution_count": 5,
   "id": "29547088",
   "metadata": {},
   "outputs": [],
   "source": [
    "# switch on your webcam\n",
    "\n",
    "while True:\n",
    "    _, img = cap.read()\n",
    "    \n",
    "    #convert video/image from BGR to RBG\n",
    "    imgRGB = cv2.cvtColor(img, cv2.COLOR_BGR2RGB)\n",
    "    \n",
    "    #Apply the mediapipe pose detection for detection\n",
    "    results = pose.process(imgRGB)\n",
    "\n",
    "    #print(results.pose_landmarks)\n",
    "    \n",
    "    #draw landmarks\n",
    "    if results.pose_landmarks:\n",
    "        mpDraw.draw_landmarks(img, results.pose_landmarks, mpPose.POSE_CONNECTIONS)\n",
    "        \n",
    "    cv2.putText(img, '\"10Alytics Pose Detection Project\"', (30,40), cv2.FONT_HERSHEY_PLAIN, 2, (0,165,255), 4)\n",
    "    cv2.putText(img, 'By: \"Olailemi Abdulrahaman\"', (10,460), cv2.FONT_HERSHEY_PLAIN, 1, (255,0,255), 2)\n",
    "    cv2.putText(img, 'Supervised By: \"Efemena\"', (420,460), cv2.FONT_HERSHEY_PLAIN, 1, (255,0,255), 2)\n",
    "\n",
    "    \n",
    "    cv2.imshow(\"10Alytics Pose Detection\", img)\n",
    "    if cv2.waitKey(1) & 0xff == ord(\"q\"):\n",
    "        break\n",
    "\n",
    "cap.release()\n",
    "cv2.destroyAllWindows()"
   ]
  },
  {
   "cell_type": "code",
   "execution_count": null,
   "id": "e4d15b49",
   "metadata": {},
   "outputs": [],
   "source": []
  },
  {
   "cell_type": "code",
   "execution_count": null,
   "id": "9b39f176",
   "metadata": {},
   "outputs": [],
   "source": []
  },
  {
   "cell_type": "code",
   "execution_count": null,
   "id": "9a7b37d3",
   "metadata": {},
   "outputs": [],
   "source": []
  },
  {
   "cell_type": "code",
   "execution_count": null,
   "id": "85d6b43a",
   "metadata": {},
   "outputs": [],
   "source": []
  }
 ],
 "metadata": {
  "kernelspec": {
   "display_name": "Python 3 (ipykernel)",
   "language": "python",
   "name": "python3"
  },
  "language_info": {
   "codemirror_mode": {
    "name": "ipython",
    "version": 3
   },
   "file_extension": ".py",
   "mimetype": "text/x-python",
   "name": "python",
   "nbconvert_exporter": "python",
   "pygments_lexer": "ipython3",
   "version": "3.11.5"
  }
 },
 "nbformat": 4,
 "nbformat_minor": 5
}
